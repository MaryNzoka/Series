{
 "cells": [
  {
   "cell_type": "code",
   "execution_count": 1,
   "id": "b58e564e",
   "metadata": {},
   "outputs": [
    {
     "name": "stdout",
     "output_type": "stream",
     "text": [
      "1982\n",
      "1993\n",
      "1999\n",
      "2004\n",
      "2010\n",
      "2021\n"
     ]
    }
   ],
   "source": [
    "import datetime\n",
    "\n",
    "for year in range(1980, 2023):\n",
    "    date = datetime.date(year, 10, 30)\n",
    "    if date.weekday() == 5: # 5 corresponds to Saturday\n",
    "        print(year)"
   ]
  }
 ],
 "metadata": {
  "kernelspec": {
   "display_name": "Python 3 (ipykernel)",
   "language": "python",
   "name": "python3"
  },
  "language_info": {
   "codemirror_mode": {
    "name": "ipython",
    "version": 3
   },
   "file_extension": ".py",
   "mimetype": "text/x-python",
   "name": "python",
   "nbconvert_exporter": "python",
   "pygments_lexer": "ipython3",
   "version": "3.11.2"
  }
 },
 "nbformat": 4,
 "nbformat_minor": 5
}
